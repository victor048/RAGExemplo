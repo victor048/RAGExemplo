# RAG Solution - Exemplo Original

<a href="https://colab.research.google.com/github/victor048/RAGExemplo/blob/main/RAGSolution_Original.ipynb" target="_parent"><img src="https://colab.research.google.com/assets/colab-badge.svg" alt="Open In Colab"/></a>

Este é o notebook original que usa RAG para revisar código do repositório LangChain.