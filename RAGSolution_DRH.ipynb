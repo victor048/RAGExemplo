# Instalação das dependências (descomente se necessário)
# !pip install langchain langchain-community langchain-openai chromadb GitPython

from langchain_community.document_loaders.generic import GenericLoader
from langchain_community.document_loaders.parsers import LanguageParser
from langchain_text_splitters import Language, RecursiveCharacterTextSplitter
from langchain_chroma import Chroma
from langchain_openai import OpenAIEmbeddings, ChatOpenAI
from langchain_core.prompts import ChatPromptTemplate
from langchain.chains import create_retrieval_chain
from langchain.chains.combine_documents import create_stuff_documents_chain

import os
from git import Repo# 🤖 RAG Solution para Análise de Dados de RH

<a href="https://colab.research.google.com/github/victor048/RAGExemplo/blob/main/RAGSolution_DRH.ipynb" target="_parent"><img src="https://colab.research.google.com/assets/colab-badge.svg" alt="Open In Colab"/></a>

Este notebook utiliza RAG (Retrieval-Augmented Generation) para analisar dados de turnover de funcionários baseado no repositório DRH_ML.

## 📊 Objetivo
Responder perguntas como: **"Qual a porcentagem de funcionários que pode deixar a empresa?"**